{
 "cells": [
  {
   "cell_type": "markdown",
   "id": "bac94125-309d-4a1b-a03f-0d2aacf62929",
   "metadata": {},
   "source": [
    "# Training models on full dataset\n",
    "\n",
    "Here, we train the models on the full dataset, using the best hyperparameters from cross-validation. We save the models for later use in simulations. We provide model explanations, using various interpretability techniques."
   ]
  },
  {
   "cell_type": "code",
   "execution_count": 1,
   "id": "1979b9ab-aa42-48eb-99fb-e7ada6bc67e2",
   "metadata": {},
   "outputs": [],
   "source": [
    "import pandas as pd\n",
    "import numpy as np\n",
    "import matplotlib.pyplot as plt\n",
    "import seaborn as sns\n",
    "import numpy as np\n",
    "from sklearn.metrics import r2_score, mean_squared_error\n",
    "from xgboost import XGBRegressor\n",
    "import joblib\n",
    "\n",
    "pd.set_option('display.max_columns', None)\n",
    "pd.set_option('display.max_rows', None)"
   ]
  },
  {
   "cell_type": "markdown",
   "id": "d28f8595-7770-439f-a292-059e111111a1",
   "metadata": {},
   "source": [
    "## Data"
   ]
  },
  {
   "cell_type": "code",
   "execution_count": 2,
   "id": "77d241a9-2300-46ac-a50a-1f5d85416cf1",
   "metadata": {},
   "outputs": [],
   "source": [
    "data = pd.read_csv('data/data.csv', low_memory=False)"
   ]
  },
  {
   "cell_type": "code",
   "execution_count": 3,
   "id": "755d00af-a165-4f79-8011-7588d0f9a9d3",
   "metadata": {},
   "outputs": [],
   "source": [
    "data['Coastal?'] = data['Coastal?'].fillna(False).astype(int)\n",
    "\n",
    "mapping_dict = {'Arid': 0, 'Snow': 1, 'Temperate': 2, 'Tropical': 3}\n",
    "data['Climate Zone'] = data['Climate Zone'].map(mapping_dict)"
   ]
  },
  {
   "cell_type": "code",
   "execution_count": 4,
   "id": "ccb27ce4-7c1d-4902-a1d8-f6ee43322da0",
   "metadata": {},
   "outputs": [],
   "source": [
    "features = ['Built Fraction', 'Grass Fraction', 'Tree Fraction', \n",
    "            'Built Albedo', 'Grass Albedo', 'Tree Albedo', \n",
    "            'Elevation', 'Climate Zone', 'Coastal?']"
   ]
  },
  {
   "cell_type": "markdown",
   "id": "112b7bbd-c43f-48e4-b9ef-a3749a4ea7de",
   "metadata": {},
   "source": [
    "## Helper Functions"
   ]
  },
  {
   "cell_type": "code",
   "execution_count": 5,
   "id": "36fbbd76-c81c-40d0-9b75-6122bd7b93ca",
   "metadata": {},
   "outputs": [],
   "source": [
    "def get_data(label):\n",
    "    df = data[features+[label]].dropna().copy()\n",
    "    X  = df[features]\n",
    "    y  = df[label]\n",
    "    \n",
    "    return X, y"
   ]
  },
  {
   "cell_type": "code",
   "execution_count": 6,
   "id": "6e65ac91-8401-46be-b9ef-a97f60d6e6f6",
   "metadata": {},
   "outputs": [],
   "source": [
    "def get_model(label, n_estimators, max_depth, filename):\n",
    "    X, y = get_data(label)\n",
    "    model = XGBRegressor(n_estimators=n_estimators, max_depth=max_depth, importance_type='gain', \n",
    "                         random_state=1, tree_method='hist', grow_policy = 'lossguide')\n",
    "    model.fit(X,y)\n",
    "    y_pred = model.predict(X)\n",
    "    print('R2: ', round(model.score(X,y), 3))\n",
    "    print('RMSE: ', round(mean_squared_error(y, y_pred, squared = False), 3))\n",
    "    joblib.dump(model, 'models/full/' + filename + '_xgb_estimator.joblib') \n",
    "    return model"
   ]
  },
  {
   "cell_type": "markdown",
   "id": "7894f18c-d693-4057-b9bd-f38746ebfe30",
   "metadata": {},
   "source": [
    "## Full Models"
   ]
  },
  {
   "cell_type": "markdown",
   "id": "2fd1d3a9-c995-47bb-a8a9-c8f83fdfd61d",
   "metadata": {},
   "source": [
    "### CUHI Day"
   ]
  },
  {
   "cell_type": "code",
   "execution_count": 9,
   "id": "4242ef8e-1577-46b5-9dd4-9cf0c9777d5b",
   "metadata": {},
   "outputs": [
    {
     "name": "stdout",
     "output_type": "stream",
     "text": [
      "R2:  0.972\n",
      "RMSE:  0.116\n"
     ]
    }
   ],
   "source": [
    "model_cuhi_d = get_model(label='CUHI Day', n_estimators=100, max_depth=10, filename='CUHI_day_summer')"
   ]
  },
  {
   "cell_type": "markdown",
   "id": "11fc3ee6-4901-4cea-b139-22375820f651",
   "metadata": {},
   "source": [
    "### CUHI Night"
   ]
  },
  {
   "cell_type": "code",
   "execution_count": 10,
   "id": "0e92756e-cd2d-4562-ac19-734a5bbdf42e",
   "metadata": {},
   "outputs": [
    {
     "name": "stdout",
     "output_type": "stream",
     "text": [
      "R2:  0.955\n",
      "RMSE:  0.116\n"
     ]
    }
   ],
   "source": [
    "model_cuhi_n = get_model(label='CUHI Night', n_estimators=100, max_depth=10, filename='CUHI_night_summer')"
   ]
  },
  {
   "cell_type": "markdown",
   "id": "8f3947b7-f6b6-4fbd-a3dd-c9dbaf6b7383",
   "metadata": {},
   "source": [
    "### SUHI Day"
   ]
  },
  {
   "cell_type": "code",
   "execution_count": 11,
   "id": "126f2ded-9955-43de-9b03-5589efda9ba4",
   "metadata": {},
   "outputs": [
    {
     "name": "stdout",
     "output_type": "stream",
     "text": [
      "R2:  0.955\n",
      "RMSE:  0.631\n"
     ]
    }
   ],
   "source": [
    "model_suhi_d = get_model(label='SUHI Day', n_estimators=100, max_depth=10, filename='SUHI_day_summer')"
   ]
  },
  {
   "cell_type": "markdown",
   "id": "37c4e0e6-68e1-418c-b355-972ace3740fe",
   "metadata": {},
   "source": [
    "### SUHI Night"
   ]
  },
  {
   "cell_type": "code",
   "execution_count": 12,
   "id": "0e5da913-67ab-4f3b-bcb7-91a296226883",
   "metadata": {},
   "outputs": [
    {
     "name": "stdout",
     "output_type": "stream",
     "text": [
      "R2:  0.929\n",
      "RMSE:  0.259\n"
     ]
    }
   ],
   "source": [
    "model_suhi_n = get_model(label='SUHI Night', n_estimators=100, max_depth=10, filename='SUHI_night_summer')"
   ]
  },
  {
   "cell_type": "code",
   "execution_count": null,
   "id": "30134eed-424d-4459-b511-9d81b0d47cd2",
   "metadata": {},
   "outputs": [],
   "source": []
  }
 ],
 "metadata": {
  "kernelspec": {
   "display_name": "Python 3",
   "language": "python",
   "name": "python3"
  },
  "language_info": {
   "codemirror_mode": {
    "name": "ipython",
    "version": 3
   },
   "file_extension": ".py",
   "mimetype": "text/x-python",
   "name": "python",
   "nbconvert_exporter": "python",
   "pygments_lexer": "ipython3",
   "version": "3.8.8"
  }
 },
 "nbformat": 4,
 "nbformat_minor": 5
}
