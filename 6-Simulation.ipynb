{
 "cells": [
  {
   "cell_type": "markdown",
   "id": "957e081b-4876-4516-a892-eb6118e46d83",
   "metadata": {},
   "source": [
    "# Simulations\n",
    "\n",
    "In this notebook, we perform simulations. We compare the coefficient before and after the simulation."
   ]
  },
  {
   "cell_type": "code",
   "execution_count": 1,
   "id": "c7ef5e68-49fe-4f1b-b088-395e9b3e6974",
   "metadata": {},
   "outputs": [],
   "source": [
    "import pandas as pd\n",
    "import numpy as np\n",
    "import matplotlib.pyplot as plt\n",
    "import seaborn as sns\n",
    "import numpy as np\n",
    "from scipy.stats import pearsonr\n",
    "from sklearn.metrics import r2_score, mean_squared_error\n",
    "from sklearn.linear_model import LinearRegression\n",
    "#import xgboost\n",
    "from xgboost import XGBRegressor\n",
    "import joblib\n",
    "import ptitprince as pt\n",
    "\n",
    "pd.set_option('display.max_columns', None)\n",
    "pd.set_option('display.max_rows', None)"
   ]
  },
  {
   "cell_type": "markdown",
   "id": "0345b350-de39-49ec-a0fe-36add8412687",
   "metadata": {},
   "source": [
    "## Data Import and Processing + Model Import"
   ]
  },
  {
   "cell_type": "code",
   "execution_count": 2,
   "id": "1d92c6e6-9e45-4037-b40a-9ee5a85b0476",
   "metadata": {},
   "outputs": [
    {
     "name": "stderr",
     "output_type": "stream",
     "text": [
      "<ipython-input-2-7c0710de09e2>:1: DtypeWarning: Columns (38) have mixed types. Specify dtype option on import or set low_memory=False.\n",
      "  data = pd.read_csv('data/data.csv')\n"
     ]
    }
   ],
   "source": [
    "data = pd.read_csv('data/data.csv')\n",
    "data['Clim_zone'] = data['Clim_zone'].astype('category')\n",
    "urban_df = data[['Urban_geoid', 'Urban_name', 'Clim_zone', 'Coastal?']].drop_duplicates().copy()"
   ]
  },
  {
   "cell_type": "code",
   "execution_count": 3,
   "id": "e467dbba-8191-4be1-b5f3-368aecd56d37",
   "metadata": {},
   "outputs": [],
   "source": [
    "model_cuhi_d = joblib.load('models/CUHI_day_summer_xgb_estimator.joblib') \n",
    "model_cuhi_n = joblib.load('models/CUHI_night_summer_xgb_estimator.joblib') \n",
    "model_suhi_d = joblib.load('models/SUHI_day_summer_xgb_estimator.joblib') \n",
    "model_suhi_n = joblib.load('models/SUHI_night_summer_xgb_estimator.joblib') "
   ]
  },
  {
   "cell_type": "code",
   "execution_count": 4,
   "id": "e12d82f7-2598-4ae8-84ac-60886ce6bbb5",
   "metadata": {},
   "outputs": [],
   "source": [
    "features = ['ESABuilt_Area', 'ESAGrass_Area', 'ESATree_Area', \n",
    "            'Albedo_Built', 'Albedo_Grass', 'Albedo_Tree', \n",
    "            'DEM_urb_CT_act', 'Clim_zone']\n",
    "labels   = ['CUHI_day_summer', 'CUHI_night_summer', 'SUHI_day_summer', 'SUHI_night_summer']"
   ]
  },
  {
   "cell_type": "markdown",
   "id": "c962da30-e53c-4914-856f-e0db93984f3f",
   "metadata": {},
   "source": [
    "### Simulation Helper Functions"
   ]
  },
  {
   "cell_type": "code",
   "execution_count": 5,
   "id": "bff9d9af-5b4d-4b81-a7ad-8e474a724fd2",
   "metadata": {},
   "outputs": [],
   "source": [
    "def get_sim_results(X_test): \n",
    "    y_pred_cuhi_d = model_cuhi_d.predict(X_test[features])\n",
    "    y_pred_cuhi_n = model_cuhi_n.predict(X_test[features])\n",
    "    y_pred_suhi_d = model_suhi_d.predict(X_test[features])\n",
    "    y_pred_suhi_n = model_suhi_n.predict(X_test[features])\n",
    "    X_test['y_pred_cuhi_d'] = y_pred_cuhi_d\n",
    "    X_test['y_pred_cuhi_n'] = y_pred_cuhi_n\n",
    "    X_test['y_pred_suhi_d'] = y_pred_suhi_d\n",
    "    X_test['y_pred_suhi_n'] = y_pred_suhi_n\n",
    "    return X_test"
   ]
  },
  {
   "cell_type": "code",
   "execution_count": 6,
   "id": "cf145de8-25b5-4d22-9f37-5257dde6f760",
   "metadata": {},
   "outputs": [],
   "source": [
    "def apply_regression(df):\n",
    "    labels = ['y_pred_cuhi_d', 'y_pred_cuhi_n', 'y_pred_suhi_d', 'y_pred_suhi_n']\n",
    "    X = df['Median Income']\n",
    "    X = np.array(X).reshape(-1, 1)\n",
    "    model_cuhi_day = LinearRegression().fit(X, df[labels[0]])\n",
    "    model_cuhi_night = LinearRegression().fit(X, df[labels[1]])\n",
    "    model_suhi_day = LinearRegression().fit(X, df[labels[2]])\n",
    "    model_suhi_night = LinearRegression().fit(X, df[labels[3]])\n",
    "    return pd.Series({'slope_CUHI_day': model_cuhi_day.coef_[0], \n",
    "                      'slope_CUHI_night': model_cuhi_night.coef_[0], \n",
    "                      'slope_SUHI_day': model_suhi_day.coef_[0], \n",
    "                      'slope_SUHI_night': model_suhi_night.coef_[0]})\n",
    "    #return pd.Series({'intercept': model.intercept_, 'slope': model.coef_[0]})"
   ]
  },
  {
   "cell_type": "code",
   "execution_count": 7,
   "id": "96e62348-e72d-45ab-a2b6-7a788131f2fd",
   "metadata": {},
   "outputs": [],
   "source": [
    "def get_coef_results(sim_results):\n",
    "    coef_result = sim_results.groupby('Urban_geoid').apply(apply_regression)\n",
    "    coef_result.reset_index(inplace=True)\n",
    "    coef_result = coef_result.merge(urban_df, how='left', on='Urban_geoid')\n",
    "    return coef_result"
   ]
  },
  {
   "cell_type": "markdown",
   "id": "406035c5-35ec-4c43-9fcc-2a3e196c2517",
   "metadata": {},
   "source": [
    "## Baseline"
   ]
  },
  {
   "cell_type": "code",
   "execution_count": 8,
   "id": "71a601e8-253c-45ad-b659-d654d3b619cb",
   "metadata": {},
   "outputs": [],
   "source": [
    "X_base = data.dropna().copy()"
   ]
  },
  {
   "cell_type": "code",
   "execution_count": 9,
   "id": "f24647c7-2237-49cd-a385-8afbfc5b2f18",
   "metadata": {},
   "outputs": [],
   "source": [
    "sim_results_baseline = get_sim_results(X_base)"
   ]
  },
  {
   "cell_type": "code",
   "execution_count": 10,
   "id": "3c78e949-97a7-4fc4-8abc-7f0e15a69742",
   "metadata": {},
   "outputs": [],
   "source": [
    "coef_result_baseline = get_coef_results(sim_results_baseline)"
   ]
  },
  {
   "cell_type": "markdown",
   "id": "cf5cc826-a052-4c8b-80ed-1d5d7a5cfa25",
   "metadata": {},
   "source": [
    "## Simulation 1: Cool Roofs and Reflective Pavement\n",
    "To simulate cool roofs and reflective pavements, we set the built albedo to 0.80."
   ]
  },
  {
   "cell_type": "code",
   "execution_count": 11,
   "id": "3f747df1-3dc2-4a89-bfeb-abf64547b27f",
   "metadata": {},
   "outputs": [
    {
     "data": {
      "text/plain": [
       "5"
      ]
     },
     "execution_count": 11,
     "metadata": {},
     "output_type": "execute_result"
    }
   ],
   "source": [
    "len(data[data['Albedo_Built']>= 0.8])"
   ]
  },
  {
   "cell_type": "code",
   "execution_count": 12,
   "id": "6bfa77c4-876a-418c-a583-83868463a6d9",
   "metadata": {},
   "outputs": [],
   "source": [
    "X_albedo = data.dropna().copy()\n",
    "X_albedo.loc[:, 'Albedo_Built'] = 0.8"
   ]
  },
  {
   "cell_type": "code",
   "execution_count": 13,
   "id": "2caddb55-32a0-42be-b573-68c55ff9cab1",
   "metadata": {},
   "outputs": [],
   "source": [
    "sim_results_albedo = get_sim_results(X_albedo)"
   ]
  },
  {
   "cell_type": "code",
   "execution_count": 14,
   "id": "ca0fc131-c7c0-46f5-9e7f-b4c98189abf4",
   "metadata": {},
   "outputs": [],
   "source": [
    "coef_result_albedo = get_coef_results(sim_results_albedo)"
   ]
  },
  {
   "cell_type": "markdown",
   "id": "0155269f-363e-4b33-a0f1-568f84745492",
   "metadata": {},
   "source": [
    "## Simulation 2: Afforestation\n",
    "\n",
    "We simulate 50% to 100% conversion of grassland to trees. For full conversion of grassland to trees, the grass albedo is replaced by tree albedo as well."
   ]
  },
  {
   "cell_type": "markdown",
   "id": "fd9e4d69-4532-42eb-b1ff-14faf24dd4c6",
   "metadata": {},
   "source": [
    "### 50 percent afforestation"
   ]
  },
  {
   "cell_type": "code",
   "execution_count": 15,
   "id": "4eb3066c-8ce5-40f0-b223-dd6d67d787c2",
   "metadata": {},
   "outputs": [],
   "source": [
    "X_afforest_50 = data.dropna().copy()\n",
    "X_afforest_50['ESATree_Area']  = X_afforest_50['ESATree_Area'] + (50/100 * X_afforest_50['ESAGrass_Area']) # add the grass area to the tree area\n",
    "X_afforest_50['ESAGrass_Area'] = 50/100 * X_afforest_50['ESAGrass_Area'] # divide the grass area by percent afforested area\n",
    "X_afforest_50['Albedo_Grass']  = X_afforest_50['Albedo_Grass'] * X_afforest_50['ESAGrass_Area'] + X_afforest_50['Albedo_Tree'] * X_afforest_50['ESATree_Area']"
   ]
  },
  {
   "cell_type": "code",
   "execution_count": 16,
   "id": "aa5493c7-cd6a-416b-8d85-557de158d62a",
   "metadata": {},
   "outputs": [],
   "source": [
    "sim_results_afforest_50 = get_sim_results(X_afforest_50)"
   ]
  },
  {
   "cell_type": "code",
   "execution_count": 17,
   "id": "d7e2ba5b-5d45-4830-92b7-ae4def9b46a3",
   "metadata": {},
   "outputs": [],
   "source": [
    "coef_result_afforest_50 = get_coef_results(sim_results_afforest_50)"
   ]
  },
  {
   "cell_type": "markdown",
   "id": "05c1f212-b57b-42cd-b3b7-e222e5cb2d83",
   "metadata": {},
   "source": [
    "### 100 percent afforestation"
   ]
  },
  {
   "cell_type": "code",
   "execution_count": 18,
   "id": "1ba52611-878c-4124-be1d-40d6528d04f2",
   "metadata": {},
   "outputs": [],
   "source": [
    "X_afforest_100 = data.dropna().copy()\n",
    "X_afforest_100['ESATree_Area']  = X_afforest_100['ESATree_Area'] + X_afforest_100['ESAGrass_Area'] # add the grass area to the tree area\n",
    "X_afforest_100['ESAGrass_Area'] = 0 # Subtract 100 percent of grass area from grass area\n",
    "X_afforest_100['Albedo_Grass']  = X_afforest_100['Albedo_Tree'] # The albedo of the original grass part is now that of trees"
   ]
  },
  {
   "cell_type": "code",
   "execution_count": 19,
   "id": "4eea11b7-1683-4a39-80d6-1a7e6a6e71d4",
   "metadata": {},
   "outputs": [],
   "source": [
    "sim_results_afforest_100 = get_sim_results(X_afforest_100)"
   ]
  },
  {
   "cell_type": "code",
   "execution_count": 20,
   "id": "34ab137e-6473-4898-926d-58c74b612d6b",
   "metadata": {},
   "outputs": [],
   "source": [
    "coef_result_afforest_100 = get_coef_results(sim_results_afforest_100)"
   ]
  },
  {
   "cell_type": "markdown",
   "id": "e730665e-0a48-4637-be44-6092fa966239",
   "metadata": {},
   "source": [
    "## Simulation 3: Afforestation + Albedo Management"
   ]
  },
  {
   "cell_type": "markdown",
   "id": "5628d9ef-b5c9-48cc-8b67-da90f7c7d13d",
   "metadata": {},
   "source": [
    "### Cool Roofs/Reflective Pavement + 50 percent Afforestation"
   ]
  },
  {
   "cell_type": "code",
   "execution_count": 21,
   "id": "26e04842-149f-4050-82cc-42a8bc5c47f0",
   "metadata": {},
   "outputs": [],
   "source": [
    "X_albedo_afforest_50 = data.dropna().copy()\n",
    "X_albedo_afforest_50['ESATree_Area']  = X_albedo_afforest_50['ESATree_Area'] + (50/100 * X_albedo_afforest_50['ESAGrass_Area']) # add the grass area to the tree area\n",
    "X_albedo_afforest_50['ESAGrass_Area'] = 50/100 * X_albedo_afforest_50['ESAGrass_Area'] # divide the grass area by percent afforested area\n",
    "X_albedo_afforest_50['Albedo_Grass']  = X_albedo_afforest_50['Albedo_Grass'] * X_albedo_afforest_50['ESAGrass_Area'] + X_albedo_afforest_50['Albedo_Tree'] * X_albedo_afforest_50['ESATree_Area']\n",
    "X_albedo_afforest_50.loc[:, 'Albedo_Built'] = 0.8"
   ]
  },
  {
   "cell_type": "code",
   "execution_count": 22,
   "id": "15f6f3eb-28ec-4291-a818-eef327423901",
   "metadata": {},
   "outputs": [],
   "source": [
    "sim_results_albedo_afforest_50 = get_sim_results(X_albedo_afforest_50)"
   ]
  },
  {
   "cell_type": "code",
   "execution_count": 23,
   "id": "fcf754ca-0849-47ba-b4fb-bd9e263c6877",
   "metadata": {},
   "outputs": [],
   "source": [
    "coef_result_albedo_afforest_50 = get_coef_results(sim_results_albedo_afforest_50)"
   ]
  },
  {
   "cell_type": "markdown",
   "id": "3026bcea-87df-4997-a6d1-1405ef64e73c",
   "metadata": {},
   "source": [
    "### Cool Roofs/Reflective Pavement + 100 percent Afforestation"
   ]
  },
  {
   "cell_type": "code",
   "execution_count": 24,
   "id": "ad820f2e-7c3d-4a0c-abed-7cc7842ad0ae",
   "metadata": {},
   "outputs": [],
   "source": [
    "X_albedo_afforest_100 = data.dropna().copy()\n",
    "X_albedo_afforest_100['ESATree_Area']  = X_albedo_afforest_100['ESATree_Area'] + X_albedo_afforest_100['ESAGrass_Area'] # add the grass area to the tree area\n",
    "X_albedo_afforest_100['ESAGrass_Area'] = 0 # Subtract 100 percent of grass area from grass area\n",
    "X_albedo_afforest_100['Albedo_Grass']  = X_albedo_afforest_100['Albedo_Tree'] # The albedo of the original grass part is now that of trees\n",
    "X_albedo_afforest_100.loc[:, 'Albedo_Built'] = 0.8"
   ]
  },
  {
   "cell_type": "code",
   "execution_count": 25,
   "id": "9e0790ff-6114-40b4-903b-cd33b658c5b9",
   "metadata": {},
   "outputs": [],
   "source": [
    "sim_results_albedo_afforest_100 = get_sim_results(X_albedo_afforest_100)"
   ]
  },
  {
   "cell_type": "code",
   "execution_count": 26,
   "id": "836cccfa-f257-4d74-a983-feffa23cc1fb",
   "metadata": {},
   "outputs": [],
   "source": [
    "coef_result_albedo_afforest_100 = get_coef_results(sim_results_albedo_afforest_100)"
   ]
  },
  {
   "cell_type": "markdown",
   "id": "c81ac0d1-91ca-432e-bd2b-620c1cc52e61",
   "metadata": {},
   "source": [
    "## Results"
   ]
  },
  {
   "cell_type": "markdown",
   "id": "cff0bf59-63bf-4dd3-a934-183abbd232c4",
   "metadata": {},
   "source": [
    "### Median"
   ]
  },
  {
   "cell_type": "code",
   "execution_count": 27,
   "id": "77257be3-83c2-4673-8e18-b4112dd87f71",
   "metadata": {},
   "outputs": [],
   "source": [
    "slopes = ['slope_CUHI_day', 'slope_CUHI_night', 'slope_SUHI_day', 'slope_SUHI_night']"
   ]
  },
  {
   "cell_type": "code",
   "execution_count": 28,
   "id": "ee17190b-4051-4a36-b85a-7b63a77602f9",
   "metadata": {},
   "outputs": [],
   "source": [
    "med_results = pd.DataFrame({\n",
    "    'Baseline': coef_result_baseline[slopes].median(), \n",
    "    'Albedo Management': coef_result_albedo[slopes].median(), \n",
    "    '50% Afforestation':coef_result_afforest_50[slopes].median(), \n",
    "    '100% Afforestation': coef_result_afforest_100[slopes].median(), \n",
    "    'Albedo Management + 50% Afforestation': coef_result_albedo_afforest_50[slopes].median(), \n",
    "    'Albedo Management + 100% Afforestation': coef_result_albedo_afforest_100[slopes].median()\n",
    "})"
   ]
  },
  {
   "cell_type": "code",
   "execution_count": 29,
   "id": "60fa965a-b90e-4d41-b0ad-0d930420a5e6",
   "metadata": {},
   "outputs": [
    {
     "data": {
      "text/html": [
       "<div>\n",
       "<style scoped>\n",
       "    .dataframe tbody tr th:only-of-type {\n",
       "        vertical-align: middle;\n",
       "    }\n",
       "\n",
       "    .dataframe tbody tr th {\n",
       "        vertical-align: top;\n",
       "    }\n",
       "\n",
       "    .dataframe thead th {\n",
       "        text-align: right;\n",
       "    }\n",
       "</style>\n",
       "<table border=\"1\" class=\"dataframe\">\n",
       "  <thead>\n",
       "    <tr style=\"text-align: right;\">\n",
       "      <th></th>\n",
       "      <th>slope_CUHI_day</th>\n",
       "      <th>slope_CUHI_night</th>\n",
       "      <th>slope_SUHI_day</th>\n",
       "      <th>slope_SUHI_night</th>\n",
       "    </tr>\n",
       "  </thead>\n",
       "  <tbody>\n",
       "    <tr>\n",
       "      <th>Baseline</th>\n",
       "      <td>-0.000010</td>\n",
       "      <td>-9.857110e-06</td>\n",
       "      <td>-0.000078</td>\n",
       "      <td>-0.000023</td>\n",
       "    </tr>\n",
       "    <tr>\n",
       "      <th>Albedo Management</th>\n",
       "      <td>-0.000006</td>\n",
       "      <td>-7.914951e-06</td>\n",
       "      <td>-0.000070</td>\n",
       "      <td>-0.000018</td>\n",
       "    </tr>\n",
       "    <tr>\n",
       "      <th>50% Afforestation</th>\n",
       "      <td>-0.000010</td>\n",
       "      <td>-7.862130e-06</td>\n",
       "      <td>-0.000066</td>\n",
       "      <td>-0.000012</td>\n",
       "    </tr>\n",
       "    <tr>\n",
       "      <th>100% Afforestation</th>\n",
       "      <td>-0.000003</td>\n",
       "      <td>-9.352773e-08</td>\n",
       "      <td>-0.000058</td>\n",
       "      <td>-0.000005</td>\n",
       "    </tr>\n",
       "    <tr>\n",
       "      <th>Albedo Management + 50% Afforestation</th>\n",
       "      <td>-0.000008</td>\n",
       "      <td>-9.913711e-06</td>\n",
       "      <td>-0.000065</td>\n",
       "      <td>-0.000012</td>\n",
       "    </tr>\n",
       "    <tr>\n",
       "      <th>Albedo Management + 100% Afforestation</th>\n",
       "      <td>0.000001</td>\n",
       "      <td>-2.186349e-06</td>\n",
       "      <td>-0.000054</td>\n",
       "      <td>-0.000010</td>\n",
       "    </tr>\n",
       "  </tbody>\n",
       "</table>\n",
       "</div>"
      ],
      "text/plain": [
       "                                        slope_CUHI_day  slope_CUHI_night  \\\n",
       "Baseline                                     -0.000010     -9.857110e-06   \n",
       "Albedo Management                            -0.000006     -7.914951e-06   \n",
       "50% Afforestation                            -0.000010     -7.862130e-06   \n",
       "100% Afforestation                           -0.000003     -9.352773e-08   \n",
       "Albedo Management + 50% Afforestation        -0.000008     -9.913711e-06   \n",
       "Albedo Management + 100% Afforestation        0.000001     -2.186349e-06   \n",
       "\n",
       "                                        slope_SUHI_day  slope_SUHI_night  \n",
       "Baseline                                     -0.000078         -0.000023  \n",
       "Albedo Management                            -0.000070         -0.000018  \n",
       "50% Afforestation                            -0.000066         -0.000012  \n",
       "100% Afforestation                           -0.000058         -0.000005  \n",
       "Albedo Management + 50% Afforestation        -0.000065         -0.000012  \n",
       "Albedo Management + 100% Afforestation       -0.000054         -0.000010  "
      ]
     },
     "execution_count": 29,
     "metadata": {},
     "output_type": "execute_result"
    }
   ],
   "source": [
    "med_results.T"
   ]
  },
  {
   "cell_type": "code",
   "execution_count": 30,
   "id": "64603b07-a653-4bbc-a92b-92d22cbdd81c",
   "metadata": {},
   "outputs": [
    {
     "data": {
      "text/html": [
       "<div>\n",
       "<style scoped>\n",
       "    .dataframe tbody tr th:only-of-type {\n",
       "        vertical-align: middle;\n",
       "    }\n",
       "\n",
       "    .dataframe tbody tr th {\n",
       "        vertical-align: top;\n",
       "    }\n",
       "\n",
       "    .dataframe thead th {\n",
       "        text-align: right;\n",
       "    }\n",
       "</style>\n",
       "<table border=\"1\" class=\"dataframe\">\n",
       "  <thead>\n",
       "    <tr style=\"text-align: right;\">\n",
       "      <th></th>\n",
       "      <th>slope_CUHI_day</th>\n",
       "      <th>slope_CUHI_night</th>\n",
       "      <th>slope_SUHI_day</th>\n",
       "      <th>slope_SUHI_night</th>\n",
       "    </tr>\n",
       "    <tr>\n",
       "      <th>Clim_zone</th>\n",
       "      <th></th>\n",
       "      <th></th>\n",
       "      <th></th>\n",
       "      <th></th>\n",
       "    </tr>\n",
       "  </thead>\n",
       "  <tbody>\n",
       "    <tr>\n",
       "      <th>Arid</th>\n",
       "      <td>-1.189701e-05</td>\n",
       "      <td>-0.000010</td>\n",
       "      <td>-0.000032</td>\n",
       "      <td>-0.000012</td>\n",
       "    </tr>\n",
       "    <tr>\n",
       "      <th>Snow</th>\n",
       "      <td>-1.369508e-05</td>\n",
       "      <td>-0.000015</td>\n",
       "      <td>-0.000114</td>\n",
       "      <td>-0.000035</td>\n",
       "    </tr>\n",
       "    <tr>\n",
       "      <th>Temperate</th>\n",
       "      <td>-7.924636e-06</td>\n",
       "      <td>-0.000008</td>\n",
       "      <td>-0.000070</td>\n",
       "      <td>-0.000017</td>\n",
       "    </tr>\n",
       "    <tr>\n",
       "      <th>Tropical</th>\n",
       "      <td>-4.779038e-07</td>\n",
       "      <td>0.000004</td>\n",
       "      <td>0.000035</td>\n",
       "      <td>0.000012</td>\n",
       "    </tr>\n",
       "  </tbody>\n",
       "</table>\n",
       "</div>"
      ],
      "text/plain": [
       "           slope_CUHI_day  slope_CUHI_night  slope_SUHI_day  slope_SUHI_night\n",
       "Clim_zone                                                                    \n",
       "Arid        -1.189701e-05         -0.000010       -0.000032         -0.000012\n",
       "Snow        -1.369508e-05         -0.000015       -0.000114         -0.000035\n",
       "Temperate   -7.924636e-06         -0.000008       -0.000070         -0.000017\n",
       "Tropical    -4.779038e-07          0.000004        0.000035          0.000012"
      ]
     },
     "execution_count": 30,
     "metadata": {},
     "output_type": "execute_result"
    }
   ],
   "source": [
    "coef_result_baseline.groupby(['Clim_zone'])[slopes].median()"
   ]
  },
  {
   "cell_type": "code",
   "execution_count": 31,
   "id": "5915e334-2320-42db-a22a-e514a788a693",
   "metadata": {},
   "outputs": [
    {
     "data": {
      "text/html": [
       "<div>\n",
       "<style scoped>\n",
       "    .dataframe tbody tr th:only-of-type {\n",
       "        vertical-align: middle;\n",
       "    }\n",
       "\n",
       "    .dataframe tbody tr th {\n",
       "        vertical-align: top;\n",
       "    }\n",
       "\n",
       "    .dataframe thead th {\n",
       "        text-align: right;\n",
       "    }\n",
       "</style>\n",
       "<table border=\"1\" class=\"dataframe\">\n",
       "  <thead>\n",
       "    <tr style=\"text-align: right;\">\n",
       "      <th>Clim_zone</th>\n",
       "      <th>Arid</th>\n",
       "      <th>Snow</th>\n",
       "      <th>Temperate</th>\n",
       "      <th>Tropical</th>\n",
       "    </tr>\n",
       "  </thead>\n",
       "  <tbody>\n",
       "    <tr>\n",
       "      <th>Baseline</th>\n",
       "      <td>-0.000012</td>\n",
       "      <td>-0.000014</td>\n",
       "      <td>-0.000008</td>\n",
       "      <td>-4.779038e-07</td>\n",
       "    </tr>\n",
       "    <tr>\n",
       "      <th>Albedo Management</th>\n",
       "      <td>-0.000005</td>\n",
       "      <td>-0.000007</td>\n",
       "      <td>-0.000005</td>\n",
       "      <td>1.641263e-07</td>\n",
       "    </tr>\n",
       "    <tr>\n",
       "      <th>50% Afforestation</th>\n",
       "      <td>-0.000004</td>\n",
       "      <td>-0.000015</td>\n",
       "      <td>-0.000008</td>\n",
       "      <td>8.053478e-06</td>\n",
       "    </tr>\n",
       "    <tr>\n",
       "      <th>100% Afforestation</th>\n",
       "      <td>-0.000008</td>\n",
       "      <td>-0.000007</td>\n",
       "      <td>-0.000001</td>\n",
       "      <td>8.750326e-06</td>\n",
       "    </tr>\n",
       "    <tr>\n",
       "      <th>Albedo Management + 50% Afforestation</th>\n",
       "      <td>-0.000004</td>\n",
       "      <td>-0.000012</td>\n",
       "      <td>-0.000007</td>\n",
       "      <td>6.804287e-06</td>\n",
       "    </tr>\n",
       "    <tr>\n",
       "      <th>Albedo Management + 100% Afforestation</th>\n",
       "      <td>-0.000008</td>\n",
       "      <td>0.000005</td>\n",
       "      <td>0.000001</td>\n",
       "      <td>8.660199e-06</td>\n",
       "    </tr>\n",
       "  </tbody>\n",
       "</table>\n",
       "</div>"
      ],
      "text/plain": [
       "Clim_zone                                   Arid      Snow  Temperate  \\\n",
       "Baseline                               -0.000012 -0.000014  -0.000008   \n",
       "Albedo Management                      -0.000005 -0.000007  -0.000005   \n",
       "50% Afforestation                      -0.000004 -0.000015  -0.000008   \n",
       "100% Afforestation                     -0.000008 -0.000007  -0.000001   \n",
       "Albedo Management + 50% Afforestation  -0.000004 -0.000012  -0.000007   \n",
       "Albedo Management + 100% Afforestation -0.000008  0.000005   0.000001   \n",
       "\n",
       "Clim_zone                                   Tropical  \n",
       "Baseline                               -4.779038e-07  \n",
       "Albedo Management                       1.641263e-07  \n",
       "50% Afforestation                       8.053478e-06  \n",
       "100% Afforestation                      8.750326e-06  \n",
       "Albedo Management + 50% Afforestation   6.804287e-06  \n",
       "Albedo Management + 100% Afforestation  8.660199e-06  "
      ]
     },
     "execution_count": 31,
     "metadata": {},
     "output_type": "execute_result"
    }
   ],
   "source": [
    "s = 'slope_CUHI_day'\n",
    "med_results = pd.DataFrame({\n",
    "    'Baseline': coef_result_baseline.groupby(['Clim_zone'])[s].median(), \n",
    "    'Albedo Management': coef_result_albedo.groupby(['Clim_zone'])[s].median(), \n",
    "    '50% Afforestation':coef_result_afforest_50.groupby(['Clim_zone'])[s].median(), \n",
    "    '100% Afforestation': coef_result_afforest_100.groupby(['Clim_zone'])[s].median(), \n",
    "    'Albedo Management + 50% Afforestation': coef_result_albedo_afforest_50.groupby(['Clim_zone'])[s].median(), \n",
    "    'Albedo Management + 100% Afforestation': coef_result_albedo_afforest_100.groupby(['Clim_zone'])[s].median()\n",
    "})\n",
    "med_results.T"
   ]
  },
  {
   "cell_type": "code",
   "execution_count": 32,
   "id": "6c52a881-6497-4d11-be3e-60980ced436a",
   "metadata": {},
   "outputs": [
    {
     "data": {
      "text/html": [
       "<div>\n",
       "<style scoped>\n",
       "    .dataframe tbody tr th:only-of-type {\n",
       "        vertical-align: middle;\n",
       "    }\n",
       "\n",
       "    .dataframe tbody tr th {\n",
       "        vertical-align: top;\n",
       "    }\n",
       "\n",
       "    .dataframe thead th {\n",
       "        text-align: right;\n",
       "    }\n",
       "</style>\n",
       "<table border=\"1\" class=\"dataframe\">\n",
       "  <thead>\n",
       "    <tr style=\"text-align: right;\">\n",
       "      <th>Clim_zone</th>\n",
       "      <th>Arid</th>\n",
       "      <th>Snow</th>\n",
       "      <th>Temperate</th>\n",
       "      <th>Tropical</th>\n",
       "    </tr>\n",
       "  </thead>\n",
       "  <tbody>\n",
       "    <tr>\n",
       "      <th>Baseline</th>\n",
       "      <td>-0.000010</td>\n",
       "      <td>-1.504815e-05</td>\n",
       "      <td>-7.642399e-06</td>\n",
       "      <td>3.515970e-06</td>\n",
       "    </tr>\n",
       "    <tr>\n",
       "      <th>Albedo Management</th>\n",
       "      <td>-0.000008</td>\n",
       "      <td>-1.306053e-05</td>\n",
       "      <td>-6.823470e-06</td>\n",
       "      <td>3.097254e-06</td>\n",
       "    </tr>\n",
       "    <tr>\n",
       "      <th>50% Afforestation</th>\n",
       "      <td>-0.000007</td>\n",
       "      <td>-1.176240e-05</td>\n",
       "      <td>-6.772424e-06</td>\n",
       "      <td>1.103369e-06</td>\n",
       "    </tr>\n",
       "    <tr>\n",
       "      <th>100% Afforestation</th>\n",
       "      <td>-0.000007</td>\n",
       "      <td>4.961108e-06</td>\n",
       "      <td>-5.042951e-07</td>\n",
       "      <td>-9.352773e-08</td>\n",
       "    </tr>\n",
       "    <tr>\n",
       "      <th>Albedo Management + 50% Afforestation</th>\n",
       "      <td>-0.000008</td>\n",
       "      <td>-1.440389e-05</td>\n",
       "      <td>-8.057840e-06</td>\n",
       "      <td>1.051586e-06</td>\n",
       "    </tr>\n",
       "    <tr>\n",
       "      <th>Albedo Management + 100% Afforestation</th>\n",
       "      <td>-0.000006</td>\n",
       "      <td>-6.611091e-07</td>\n",
       "      <td>-3.204070e-06</td>\n",
       "      <td>-1.291323e-06</td>\n",
       "    </tr>\n",
       "  </tbody>\n",
       "</table>\n",
       "</div>"
      ],
      "text/plain": [
       "Clim_zone                                   Arid          Snow     Temperate  \\\n",
       "Baseline                               -0.000010 -1.504815e-05 -7.642399e-06   \n",
       "Albedo Management                      -0.000008 -1.306053e-05 -6.823470e-06   \n",
       "50% Afforestation                      -0.000007 -1.176240e-05 -6.772424e-06   \n",
       "100% Afforestation                     -0.000007  4.961108e-06 -5.042951e-07   \n",
       "Albedo Management + 50% Afforestation  -0.000008 -1.440389e-05 -8.057840e-06   \n",
       "Albedo Management + 100% Afforestation -0.000006 -6.611091e-07 -3.204070e-06   \n",
       "\n",
       "Clim_zone                                   Tropical  \n",
       "Baseline                                3.515970e-06  \n",
       "Albedo Management                       3.097254e-06  \n",
       "50% Afforestation                       1.103369e-06  \n",
       "100% Afforestation                     -9.352773e-08  \n",
       "Albedo Management + 50% Afforestation   1.051586e-06  \n",
       "Albedo Management + 100% Afforestation -1.291323e-06  "
      ]
     },
     "execution_count": 32,
     "metadata": {},
     "output_type": "execute_result"
    }
   ],
   "source": [
    "s = 'slope_CUHI_night'\n",
    "med_results = pd.DataFrame({\n",
    "    'Baseline': coef_result_baseline.groupby(['Clim_zone'])[s].median(), \n",
    "    'Albedo Management': coef_result_albedo.groupby(['Clim_zone'])[s].median(), \n",
    "    '50% Afforestation':coef_result_afforest_50.groupby(['Clim_zone'])[s].median(), \n",
    "    '100% Afforestation': coef_result_afforest_100.groupby(['Clim_zone'])[s].median(), \n",
    "    'Albedo Management + 50% Afforestation': coef_result_albedo_afforest_50.groupby(['Clim_zone'])[s].median(), \n",
    "    'Albedo Management + 100% Afforestation': coef_result_albedo_afforest_100.groupby(['Clim_zone'])[s].median()\n",
    "})\n",
    "med_results.T"
   ]
  },
  {
   "cell_type": "markdown",
   "id": "9e90edc1-622c-40d2-b01c-7ed1c45da5fe",
   "metadata": {},
   "source": [
    "### Descriptive Table Helper Function"
   ]
  },
  {
   "cell_type": "code",
   "execution_count": 33,
   "id": "4f192a58-0e75-415b-9022-91120ec08712",
   "metadata": {},
   "outputs": [],
   "source": [
    "def set_des_results(slope):\n",
    "    des_results = pd.DataFrame({\n",
    "        'Baseline': coef_result_baseline[slope].describe(), \n",
    "        'Albedo Management': coef_result_albedo[slope].describe(), \n",
    "        '50% Afforestation':coef_result_afforest_50[slope].describe(), \n",
    "        '100% Afforestation': coef_result_afforest_100[slope].describe(), \n",
    "        'Albedo Management + 50% Afforestation': coef_result_albedo_afforest_50[slope].describe(), \n",
    "        'Albedo Management + 100% Afforestation': coef_result_albedo_afforest_100[slope].describe()\n",
    "    })\n",
    "    return des_results.T"
   ]
  },
  {
   "cell_type": "markdown",
   "id": "11991f76-525c-4491-9c87-6f5da7adfe82",
   "metadata": {},
   "source": [
    "### CUHI Day"
   ]
  },
  {
   "cell_type": "code",
   "execution_count": 34,
   "id": "c0e607bc-4a1b-468c-91b5-d2bce1df1419",
   "metadata": {},
   "outputs": [
    {
     "data": {
      "text/html": [
       "<div>\n",
       "<style scoped>\n",
       "    .dataframe tbody tr th:only-of-type {\n",
       "        vertical-align: middle;\n",
       "    }\n",
       "\n",
       "    .dataframe tbody tr th {\n",
       "        vertical-align: top;\n",
       "    }\n",
       "\n",
       "    .dataframe thead th {\n",
       "        text-align: right;\n",
       "    }\n",
       "</style>\n",
       "<table border=\"1\" class=\"dataframe\">\n",
       "  <thead>\n",
       "    <tr style=\"text-align: right;\">\n",
       "      <th></th>\n",
       "      <th>count</th>\n",
       "      <th>mean</th>\n",
       "      <th>std</th>\n",
       "      <th>min</th>\n",
       "      <th>25%</th>\n",
       "      <th>50%</th>\n",
       "      <th>75%</th>\n",
       "      <th>max</th>\n",
       "    </tr>\n",
       "  </thead>\n",
       "  <tbody>\n",
       "    <tr>\n",
       "      <th>Baseline</th>\n",
       "      <td>493.0</td>\n",
       "      <td>-1.373286e-05</td>\n",
       "      <td>0.000018</td>\n",
       "      <td>-0.000146</td>\n",
       "      <td>-0.000018</td>\n",
       "      <td>-0.000010</td>\n",
       "      <td>-0.000005</td>\n",
       "      <td>0.000073</td>\n",
       "    </tr>\n",
       "    <tr>\n",
       "      <th>Albedo Management</th>\n",
       "      <td>493.0</td>\n",
       "      <td>-7.957183e-06</td>\n",
       "      <td>0.000012</td>\n",
       "      <td>-0.000087</td>\n",
       "      <td>-0.000010</td>\n",
       "      <td>-0.000006</td>\n",
       "      <td>-0.000003</td>\n",
       "      <td>0.000055</td>\n",
       "    </tr>\n",
       "    <tr>\n",
       "      <th>50% Afforestation</th>\n",
       "      <td>493.0</td>\n",
       "      <td>-1.408851e-05</td>\n",
       "      <td>0.000021</td>\n",
       "      <td>-0.000122</td>\n",
       "      <td>-0.000019</td>\n",
       "      <td>-0.000010</td>\n",
       "      <td>-0.000004</td>\n",
       "      <td>0.000071</td>\n",
       "    </tr>\n",
       "    <tr>\n",
       "      <th>100% Afforestation</th>\n",
       "      <td>493.0</td>\n",
       "      <td>-3.836406e-06</td>\n",
       "      <td>0.000031</td>\n",
       "      <td>-0.000148</td>\n",
       "      <td>-0.000017</td>\n",
       "      <td>-0.000003</td>\n",
       "      <td>0.000011</td>\n",
       "      <td>0.000193</td>\n",
       "    </tr>\n",
       "    <tr>\n",
       "      <th>Albedo Management + 50% Afforestation</th>\n",
       "      <td>493.0</td>\n",
       "      <td>-1.111326e-05</td>\n",
       "      <td>0.000018</td>\n",
       "      <td>-0.000118</td>\n",
       "      <td>-0.000015</td>\n",
       "      <td>-0.000008</td>\n",
       "      <td>-0.000003</td>\n",
       "      <td>0.000073</td>\n",
       "    </tr>\n",
       "    <tr>\n",
       "      <th>Albedo Management + 100% Afforestation</th>\n",
       "      <td>493.0</td>\n",
       "      <td>9.618521e-07</td>\n",
       "      <td>0.000029</td>\n",
       "      <td>-0.000151</td>\n",
       "      <td>-0.000011</td>\n",
       "      <td>0.000001</td>\n",
       "      <td>0.000014</td>\n",
       "      <td>0.000174</td>\n",
       "    </tr>\n",
       "  </tbody>\n",
       "</table>\n",
       "</div>"
      ],
      "text/plain": [
       "                                        count          mean       std  \\\n",
       "Baseline                                493.0 -1.373286e-05  0.000018   \n",
       "Albedo Management                       493.0 -7.957183e-06  0.000012   \n",
       "50% Afforestation                       493.0 -1.408851e-05  0.000021   \n",
       "100% Afforestation                      493.0 -3.836406e-06  0.000031   \n",
       "Albedo Management + 50% Afforestation   493.0 -1.111326e-05  0.000018   \n",
       "Albedo Management + 100% Afforestation  493.0  9.618521e-07  0.000029   \n",
       "\n",
       "                                             min       25%       50%  \\\n",
       "Baseline                               -0.000146 -0.000018 -0.000010   \n",
       "Albedo Management                      -0.000087 -0.000010 -0.000006   \n",
       "50% Afforestation                      -0.000122 -0.000019 -0.000010   \n",
       "100% Afforestation                     -0.000148 -0.000017 -0.000003   \n",
       "Albedo Management + 50% Afforestation  -0.000118 -0.000015 -0.000008   \n",
       "Albedo Management + 100% Afforestation -0.000151 -0.000011  0.000001   \n",
       "\n",
       "                                             75%       max  \n",
       "Baseline                               -0.000005  0.000073  \n",
       "Albedo Management                      -0.000003  0.000055  \n",
       "50% Afforestation                      -0.000004  0.000071  \n",
       "100% Afforestation                      0.000011  0.000193  \n",
       "Albedo Management + 50% Afforestation  -0.000003  0.000073  \n",
       "Albedo Management + 100% Afforestation  0.000014  0.000174  "
      ]
     },
     "execution_count": 34,
     "metadata": {},
     "output_type": "execute_result"
    }
   ],
   "source": [
    "set_des_results('slope_CUHI_day')"
   ]
  },
  {
   "cell_type": "markdown",
   "id": "90ceba97-7f1b-4492-9438-ae78b5556c4e",
   "metadata": {},
   "source": [
    "### CUHI Night"
   ]
  },
  {
   "cell_type": "code",
   "execution_count": 35,
   "id": "724f5e68-3ee6-4cab-b602-52e950a7f4ac",
   "metadata": {},
   "outputs": [
    {
     "data": {
      "text/html": [
       "<div>\n",
       "<style scoped>\n",
       "    .dataframe tbody tr th:only-of-type {\n",
       "        vertical-align: middle;\n",
       "    }\n",
       "\n",
       "    .dataframe tbody tr th {\n",
       "        vertical-align: top;\n",
       "    }\n",
       "\n",
       "    .dataframe thead th {\n",
       "        text-align: right;\n",
       "    }\n",
       "</style>\n",
       "<table border=\"1\" class=\"dataframe\">\n",
       "  <thead>\n",
       "    <tr style=\"text-align: right;\">\n",
       "      <th></th>\n",
       "      <th>count</th>\n",
       "      <th>mean</th>\n",
       "      <th>std</th>\n",
       "      <th>min</th>\n",
       "      <th>25%</th>\n",
       "      <th>50%</th>\n",
       "      <th>75%</th>\n",
       "      <th>max</th>\n",
       "    </tr>\n",
       "  </thead>\n",
       "  <tbody>\n",
       "    <tr>\n",
       "      <th>Baseline</th>\n",
       "      <td>493.0</td>\n",
       "      <td>-0.000012</td>\n",
       "      <td>0.000015</td>\n",
       "      <td>-0.000092</td>\n",
       "      <td>-0.000019</td>\n",
       "      <td>-9.857110e-06</td>\n",
       "      <td>-0.000004</td>\n",
       "      <td>0.000103</td>\n",
       "    </tr>\n",
       "    <tr>\n",
       "      <th>Albedo Management</th>\n",
       "      <td>493.0</td>\n",
       "      <td>-0.000010</td>\n",
       "      <td>0.000012</td>\n",
       "      <td>-0.000061</td>\n",
       "      <td>-0.000015</td>\n",
       "      <td>-7.914951e-06</td>\n",
       "      <td>-0.000004</td>\n",
       "      <td>0.000045</td>\n",
       "    </tr>\n",
       "    <tr>\n",
       "      <th>50% Afforestation</th>\n",
       "      <td>493.0</td>\n",
       "      <td>-0.000010</td>\n",
       "      <td>0.000012</td>\n",
       "      <td>-0.000066</td>\n",
       "      <td>-0.000015</td>\n",
       "      <td>-7.862130e-06</td>\n",
       "      <td>-0.000003</td>\n",
       "      <td>0.000064</td>\n",
       "    </tr>\n",
       "    <tr>\n",
       "      <th>100% Afforestation</th>\n",
       "      <td>493.0</td>\n",
       "      <td>0.000001</td>\n",
       "      <td>0.000017</td>\n",
       "      <td>-0.000067</td>\n",
       "      <td>-0.000006</td>\n",
       "      <td>-9.352773e-08</td>\n",
       "      <td>0.000009</td>\n",
       "      <td>0.000113</td>\n",
       "    </tr>\n",
       "    <tr>\n",
       "      <th>Albedo Management + 50% Afforestation</th>\n",
       "      <td>493.0</td>\n",
       "      <td>-0.000012</td>\n",
       "      <td>0.000014</td>\n",
       "      <td>-0.000070</td>\n",
       "      <td>-0.000018</td>\n",
       "      <td>-9.913711e-06</td>\n",
       "      <td>-0.000004</td>\n",
       "      <td>0.000035</td>\n",
       "    </tr>\n",
       "    <tr>\n",
       "      <th>Albedo Management + 100% Afforestation</th>\n",
       "      <td>493.0</td>\n",
       "      <td>-0.000003</td>\n",
       "      <td>0.000017</td>\n",
       "      <td>-0.000097</td>\n",
       "      <td>-0.000009</td>\n",
       "      <td>-2.186349e-06</td>\n",
       "      <td>0.000004</td>\n",
       "      <td>0.000048</td>\n",
       "    </tr>\n",
       "  </tbody>\n",
       "</table>\n",
       "</div>"
      ],
      "text/plain": [
       "                                        count      mean       std       min  \\\n",
       "Baseline                                493.0 -0.000012  0.000015 -0.000092   \n",
       "Albedo Management                       493.0 -0.000010  0.000012 -0.000061   \n",
       "50% Afforestation                       493.0 -0.000010  0.000012 -0.000066   \n",
       "100% Afforestation                      493.0  0.000001  0.000017 -0.000067   \n",
       "Albedo Management + 50% Afforestation   493.0 -0.000012  0.000014 -0.000070   \n",
       "Albedo Management + 100% Afforestation  493.0 -0.000003  0.000017 -0.000097   \n",
       "\n",
       "                                             25%           50%       75%  \\\n",
       "Baseline                               -0.000019 -9.857110e-06 -0.000004   \n",
       "Albedo Management                      -0.000015 -7.914951e-06 -0.000004   \n",
       "50% Afforestation                      -0.000015 -7.862130e-06 -0.000003   \n",
       "100% Afforestation                     -0.000006 -9.352773e-08  0.000009   \n",
       "Albedo Management + 50% Afforestation  -0.000018 -9.913711e-06 -0.000004   \n",
       "Albedo Management + 100% Afforestation -0.000009 -2.186349e-06  0.000004   \n",
       "\n",
       "                                             max  \n",
       "Baseline                                0.000103  \n",
       "Albedo Management                       0.000045  \n",
       "50% Afforestation                       0.000064  \n",
       "100% Afforestation                      0.000113  \n",
       "Albedo Management + 50% Afforestation   0.000035  \n",
       "Albedo Management + 100% Afforestation  0.000048  "
      ]
     },
     "execution_count": 35,
     "metadata": {},
     "output_type": "execute_result"
    }
   ],
   "source": [
    "set_des_results('slope_CUHI_night')"
   ]
  },
  {
   "cell_type": "markdown",
   "id": "9f77963a-ff62-43b3-8a39-6e9744528d29",
   "metadata": {},
   "source": [
    "### SUHI Night"
   ]
  },
  {
   "cell_type": "code",
   "execution_count": 36,
   "id": "a1a38d83-92ce-4e93-9599-9d9166e3cbe0",
   "metadata": {},
   "outputs": [
    {
     "data": {
      "text/html": [
       "<div>\n",
       "<style scoped>\n",
       "    .dataframe tbody tr th:only-of-type {\n",
       "        vertical-align: middle;\n",
       "    }\n",
       "\n",
       "    .dataframe tbody tr th {\n",
       "        vertical-align: top;\n",
       "    }\n",
       "\n",
       "    .dataframe thead th {\n",
       "        text-align: right;\n",
       "    }\n",
       "</style>\n",
       "<table border=\"1\" class=\"dataframe\">\n",
       "  <thead>\n",
       "    <tr style=\"text-align: right;\">\n",
       "      <th></th>\n",
       "      <th>count</th>\n",
       "      <th>mean</th>\n",
       "      <th>std</th>\n",
       "      <th>min</th>\n",
       "      <th>25%</th>\n",
       "      <th>50%</th>\n",
       "      <th>75%</th>\n",
       "      <th>max</th>\n",
       "    </tr>\n",
       "  </thead>\n",
       "  <tbody>\n",
       "    <tr>\n",
       "      <th>Baseline</th>\n",
       "      <td>493.0</td>\n",
       "      <td>-0.000087</td>\n",
       "      <td>0.000077</td>\n",
       "      <td>-0.000388</td>\n",
       "      <td>-0.000130</td>\n",
       "      <td>-0.000078</td>\n",
       "      <td>-0.000039</td>\n",
       "      <td>0.000196</td>\n",
       "    </tr>\n",
       "    <tr>\n",
       "      <th>Albedo Management</th>\n",
       "      <td>493.0</td>\n",
       "      <td>-0.000075</td>\n",
       "      <td>0.000061</td>\n",
       "      <td>-0.000301</td>\n",
       "      <td>-0.000108</td>\n",
       "      <td>-0.000070</td>\n",
       "      <td>-0.000037</td>\n",
       "      <td>0.000165</td>\n",
       "    </tr>\n",
       "    <tr>\n",
       "      <th>50% Afforestation</th>\n",
       "      <td>493.0</td>\n",
       "      <td>-0.000070</td>\n",
       "      <td>0.000068</td>\n",
       "      <td>-0.000377</td>\n",
       "      <td>-0.000102</td>\n",
       "      <td>-0.000066</td>\n",
       "      <td>-0.000030</td>\n",
       "      <td>0.000194</td>\n",
       "    </tr>\n",
       "    <tr>\n",
       "      <th>100% Afforestation</th>\n",
       "      <td>493.0</td>\n",
       "      <td>-0.000066</td>\n",
       "      <td>0.000064</td>\n",
       "      <td>-0.000357</td>\n",
       "      <td>-0.000095</td>\n",
       "      <td>-0.000058</td>\n",
       "      <td>-0.000024</td>\n",
       "      <td>0.000217</td>\n",
       "    </tr>\n",
       "    <tr>\n",
       "      <th>Albedo Management + 50% Afforestation</th>\n",
       "      <td>493.0</td>\n",
       "      <td>-0.000066</td>\n",
       "      <td>0.000061</td>\n",
       "      <td>-0.000316</td>\n",
       "      <td>-0.000097</td>\n",
       "      <td>-0.000065</td>\n",
       "      <td>-0.000030</td>\n",
       "      <td>0.000203</td>\n",
       "    </tr>\n",
       "    <tr>\n",
       "      <th>Albedo Management + 100% Afforestation</th>\n",
       "      <td>493.0</td>\n",
       "      <td>-0.000060</td>\n",
       "      <td>0.000060</td>\n",
       "      <td>-0.000394</td>\n",
       "      <td>-0.000090</td>\n",
       "      <td>-0.000054</td>\n",
       "      <td>-0.000023</td>\n",
       "      <td>0.000218</td>\n",
       "    </tr>\n",
       "  </tbody>\n",
       "</table>\n",
       "</div>"
      ],
      "text/plain": [
       "                                        count      mean       std       min  \\\n",
       "Baseline                                493.0 -0.000087  0.000077 -0.000388   \n",
       "Albedo Management                       493.0 -0.000075  0.000061 -0.000301   \n",
       "50% Afforestation                       493.0 -0.000070  0.000068 -0.000377   \n",
       "100% Afforestation                      493.0 -0.000066  0.000064 -0.000357   \n",
       "Albedo Management + 50% Afforestation   493.0 -0.000066  0.000061 -0.000316   \n",
       "Albedo Management + 100% Afforestation  493.0 -0.000060  0.000060 -0.000394   \n",
       "\n",
       "                                             25%       50%       75%       max  \n",
       "Baseline                               -0.000130 -0.000078 -0.000039  0.000196  \n",
       "Albedo Management                      -0.000108 -0.000070 -0.000037  0.000165  \n",
       "50% Afforestation                      -0.000102 -0.000066 -0.000030  0.000194  \n",
       "100% Afforestation                     -0.000095 -0.000058 -0.000024  0.000217  \n",
       "Albedo Management + 50% Afforestation  -0.000097 -0.000065 -0.000030  0.000203  \n",
       "Albedo Management + 100% Afforestation -0.000090 -0.000054 -0.000023  0.000218  "
      ]
     },
     "execution_count": 36,
     "metadata": {},
     "output_type": "execute_result"
    }
   ],
   "source": [
    "set_des_results('slope_SUHI_day')"
   ]
  },
  {
   "cell_type": "markdown",
   "id": "bac1a06c-af7e-4c64-83cb-b1e0cdd9e680",
   "metadata": {},
   "source": [
    "### SUHI Night"
   ]
  },
  {
   "cell_type": "code",
   "execution_count": 37,
   "id": "5515b12e-7e3e-4701-893e-b258d5a7aa33",
   "metadata": {},
   "outputs": [
    {
     "data": {
      "text/html": [
       "<div>\n",
       "<style scoped>\n",
       "    .dataframe tbody tr th:only-of-type {\n",
       "        vertical-align: middle;\n",
       "    }\n",
       "\n",
       "    .dataframe tbody tr th {\n",
       "        vertical-align: top;\n",
       "    }\n",
       "\n",
       "    .dataframe thead th {\n",
       "        text-align: right;\n",
       "    }\n",
       "</style>\n",
       "<table border=\"1\" class=\"dataframe\">\n",
       "  <thead>\n",
       "    <tr style=\"text-align: right;\">\n",
       "      <th></th>\n",
       "      <th>count</th>\n",
       "      <th>mean</th>\n",
       "      <th>std</th>\n",
       "      <th>min</th>\n",
       "      <th>25%</th>\n",
       "      <th>50%</th>\n",
       "      <th>75%</th>\n",
       "      <th>max</th>\n",
       "    </tr>\n",
       "  </thead>\n",
       "  <tbody>\n",
       "    <tr>\n",
       "      <th>Baseline</th>\n",
       "      <td>493.0</td>\n",
       "      <td>-0.000024</td>\n",
       "      <td>0.000028</td>\n",
       "      <td>-0.000128</td>\n",
       "      <td>-0.000038</td>\n",
       "      <td>-0.000023</td>\n",
       "      <td>-0.000007</td>\n",
       "      <td>0.000162</td>\n",
       "    </tr>\n",
       "    <tr>\n",
       "      <th>Albedo Management</th>\n",
       "      <td>493.0</td>\n",
       "      <td>-0.000021</td>\n",
       "      <td>0.000023</td>\n",
       "      <td>-0.000125</td>\n",
       "      <td>-0.000034</td>\n",
       "      <td>-0.000018</td>\n",
       "      <td>-0.000008</td>\n",
       "      <td>0.000107</td>\n",
       "    </tr>\n",
       "    <tr>\n",
       "      <th>50% Afforestation</th>\n",
       "      <td>493.0</td>\n",
       "      <td>-0.000014</td>\n",
       "      <td>0.000019</td>\n",
       "      <td>-0.000098</td>\n",
       "      <td>-0.000024</td>\n",
       "      <td>-0.000012</td>\n",
       "      <td>-0.000004</td>\n",
       "      <td>0.000053</td>\n",
       "    </tr>\n",
       "    <tr>\n",
       "      <th>100% Afforestation</th>\n",
       "      <td>493.0</td>\n",
       "      <td>-0.000006</td>\n",
       "      <td>0.000016</td>\n",
       "      <td>-0.000066</td>\n",
       "      <td>-0.000013</td>\n",
       "      <td>-0.000005</td>\n",
       "      <td>0.000002</td>\n",
       "      <td>0.000084</td>\n",
       "    </tr>\n",
       "    <tr>\n",
       "      <th>Albedo Management + 50% Afforestation</th>\n",
       "      <td>493.0</td>\n",
       "      <td>-0.000014</td>\n",
       "      <td>0.000019</td>\n",
       "      <td>-0.000092</td>\n",
       "      <td>-0.000023</td>\n",
       "      <td>-0.000012</td>\n",
       "      <td>-0.000004</td>\n",
       "      <td>0.000055</td>\n",
       "    </tr>\n",
       "    <tr>\n",
       "      <th>Albedo Management + 100% Afforestation</th>\n",
       "      <td>493.0</td>\n",
       "      <td>-0.000012</td>\n",
       "      <td>0.000017</td>\n",
       "      <td>-0.000097</td>\n",
       "      <td>-0.000021</td>\n",
       "      <td>-0.000010</td>\n",
       "      <td>-0.000002</td>\n",
       "      <td>0.000080</td>\n",
       "    </tr>\n",
       "  </tbody>\n",
       "</table>\n",
       "</div>"
      ],
      "text/plain": [
       "                                        count      mean       std       min  \\\n",
       "Baseline                                493.0 -0.000024  0.000028 -0.000128   \n",
       "Albedo Management                       493.0 -0.000021  0.000023 -0.000125   \n",
       "50% Afforestation                       493.0 -0.000014  0.000019 -0.000098   \n",
       "100% Afforestation                      493.0 -0.000006  0.000016 -0.000066   \n",
       "Albedo Management + 50% Afforestation   493.0 -0.000014  0.000019 -0.000092   \n",
       "Albedo Management + 100% Afforestation  493.0 -0.000012  0.000017 -0.000097   \n",
       "\n",
       "                                             25%       50%       75%       max  \n",
       "Baseline                               -0.000038 -0.000023 -0.000007  0.000162  \n",
       "Albedo Management                      -0.000034 -0.000018 -0.000008  0.000107  \n",
       "50% Afforestation                      -0.000024 -0.000012 -0.000004  0.000053  \n",
       "100% Afforestation                     -0.000013 -0.000005  0.000002  0.000084  \n",
       "Albedo Management + 50% Afforestation  -0.000023 -0.000012 -0.000004  0.000055  \n",
       "Albedo Management + 100% Afforestation -0.000021 -0.000010 -0.000002  0.000080  "
      ]
     },
     "execution_count": 37,
     "metadata": {},
     "output_type": "execute_result"
    }
   ],
   "source": [
    "set_des_results('slope_SUHI_night')"
   ]
  },
  {
   "cell_type": "code",
   "execution_count": null,
   "id": "1bf9fb90-04b9-4c1f-a764-b87e1afbc10a",
   "metadata": {},
   "outputs": [],
   "source": []
  }
 ],
 "metadata": {
  "kernelspec": {
   "display_name": "Python 3",
   "language": "python",
   "name": "python3"
  },
  "language_info": {
   "codemirror_mode": {
    "name": "ipython",
    "version": 3
   },
   "file_extension": ".py",
   "mimetype": "text/x-python",
   "name": "python",
   "nbconvert_exporter": "python",
   "pygments_lexer": "ipython3",
   "version": "3.8.8"
  }
 },
 "nbformat": 4,
 "nbformat_minor": 5
}
